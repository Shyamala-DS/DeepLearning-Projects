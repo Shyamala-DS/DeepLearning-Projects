{
  "nbformat": 4,
  "nbformat_minor": 0,
  "metadata": {
    "colab": {
      "provenance": [],
      "gpuType": "T4"
    },
    "kernelspec": {
      "name": "python3",
      "display_name": "Python 3"
    },
    "language_info": {
      "name": "python"
    },
    "accelerator": "GPU"
  },
  "cells": [
    {
      "cell_type": "code",
      "execution_count": null,
      "metadata": {
        "id": "ps3J2mgOB29r"
      },
      "outputs": [],
      "source": [
        "from tensorflow.keras.datasets import mnist\n"
      ]
    },
    {
      "cell_type": "code",
      "source": [
        "import tensorflow as tf"
      ],
      "metadata": {
        "id": "6YxaIeqeMv6u"
      },
      "execution_count": null,
      "outputs": []
    },
    {
      "cell_type": "code",
      "source": [
        "mnist.load_data()"
      ],
      "metadata": {
        "colab": {
          "base_uri": "https://localhost:8080/"
        },
        "id": "fYropJWVM9w1",
        "outputId": "c327909b-9ab1-429b-d63d-422e85d285c1"
      },
      "execution_count": null,
      "outputs": [
        {
          "output_type": "stream",
          "name": "stdout",
          "text": [
            "Downloading data from https://storage.googleapis.com/tensorflow/tf-keras-datasets/mnist.npz\n",
            "11490434/11490434 [==============================] - 0s 0us/step\n"
          ]
        },
        {
          "output_type": "execute_result",
          "data": {
            "text/plain": [
              "((array([[[0, 0, 0, ..., 0, 0, 0],\n",
              "          [0, 0, 0, ..., 0, 0, 0],\n",
              "          [0, 0, 0, ..., 0, 0, 0],\n",
              "          ...,\n",
              "          [0, 0, 0, ..., 0, 0, 0],\n",
              "          [0, 0, 0, ..., 0, 0, 0],\n",
              "          [0, 0, 0, ..., 0, 0, 0]],\n",
              "  \n",
              "         [[0, 0, 0, ..., 0, 0, 0],\n",
              "          [0, 0, 0, ..., 0, 0, 0],\n",
              "          [0, 0, 0, ..., 0, 0, 0],\n",
              "          ...,\n",
              "          [0, 0, 0, ..., 0, 0, 0],\n",
              "          [0, 0, 0, ..., 0, 0, 0],\n",
              "          [0, 0, 0, ..., 0, 0, 0]],\n",
              "  \n",
              "         [[0, 0, 0, ..., 0, 0, 0],\n",
              "          [0, 0, 0, ..., 0, 0, 0],\n",
              "          [0, 0, 0, ..., 0, 0, 0],\n",
              "          ...,\n",
              "          [0, 0, 0, ..., 0, 0, 0],\n",
              "          [0, 0, 0, ..., 0, 0, 0],\n",
              "          [0, 0, 0, ..., 0, 0, 0]],\n",
              "  \n",
              "         ...,\n",
              "  \n",
              "         [[0, 0, 0, ..., 0, 0, 0],\n",
              "          [0, 0, 0, ..., 0, 0, 0],\n",
              "          [0, 0, 0, ..., 0, 0, 0],\n",
              "          ...,\n",
              "          [0, 0, 0, ..., 0, 0, 0],\n",
              "          [0, 0, 0, ..., 0, 0, 0],\n",
              "          [0, 0, 0, ..., 0, 0, 0]],\n",
              "  \n",
              "         [[0, 0, 0, ..., 0, 0, 0],\n",
              "          [0, 0, 0, ..., 0, 0, 0],\n",
              "          [0, 0, 0, ..., 0, 0, 0],\n",
              "          ...,\n",
              "          [0, 0, 0, ..., 0, 0, 0],\n",
              "          [0, 0, 0, ..., 0, 0, 0],\n",
              "          [0, 0, 0, ..., 0, 0, 0]],\n",
              "  \n",
              "         [[0, 0, 0, ..., 0, 0, 0],\n",
              "          [0, 0, 0, ..., 0, 0, 0],\n",
              "          [0, 0, 0, ..., 0, 0, 0],\n",
              "          ...,\n",
              "          [0, 0, 0, ..., 0, 0, 0],\n",
              "          [0, 0, 0, ..., 0, 0, 0],\n",
              "          [0, 0, 0, ..., 0, 0, 0]]], dtype=uint8),\n",
              "  array([5, 0, 4, ..., 5, 6, 8], dtype=uint8)),\n",
              " (array([[[0, 0, 0, ..., 0, 0, 0],\n",
              "          [0, 0, 0, ..., 0, 0, 0],\n",
              "          [0, 0, 0, ..., 0, 0, 0],\n",
              "          ...,\n",
              "          [0, 0, 0, ..., 0, 0, 0],\n",
              "          [0, 0, 0, ..., 0, 0, 0],\n",
              "          [0, 0, 0, ..., 0, 0, 0]],\n",
              "  \n",
              "         [[0, 0, 0, ..., 0, 0, 0],\n",
              "          [0, 0, 0, ..., 0, 0, 0],\n",
              "          [0, 0, 0, ..., 0, 0, 0],\n",
              "          ...,\n",
              "          [0, 0, 0, ..., 0, 0, 0],\n",
              "          [0, 0, 0, ..., 0, 0, 0],\n",
              "          [0, 0, 0, ..., 0, 0, 0]],\n",
              "  \n",
              "         [[0, 0, 0, ..., 0, 0, 0],\n",
              "          [0, 0, 0, ..., 0, 0, 0],\n",
              "          [0, 0, 0, ..., 0, 0, 0],\n",
              "          ...,\n",
              "          [0, 0, 0, ..., 0, 0, 0],\n",
              "          [0, 0, 0, ..., 0, 0, 0],\n",
              "          [0, 0, 0, ..., 0, 0, 0]],\n",
              "  \n",
              "         ...,\n",
              "  \n",
              "         [[0, 0, 0, ..., 0, 0, 0],\n",
              "          [0, 0, 0, ..., 0, 0, 0],\n",
              "          [0, 0, 0, ..., 0, 0, 0],\n",
              "          ...,\n",
              "          [0, 0, 0, ..., 0, 0, 0],\n",
              "          [0, 0, 0, ..., 0, 0, 0],\n",
              "          [0, 0, 0, ..., 0, 0, 0]],\n",
              "  \n",
              "         [[0, 0, 0, ..., 0, 0, 0],\n",
              "          [0, 0, 0, ..., 0, 0, 0],\n",
              "          [0, 0, 0, ..., 0, 0, 0],\n",
              "          ...,\n",
              "          [0, 0, 0, ..., 0, 0, 0],\n",
              "          [0, 0, 0, ..., 0, 0, 0],\n",
              "          [0, 0, 0, ..., 0, 0, 0]],\n",
              "  \n",
              "         [[0, 0, 0, ..., 0, 0, 0],\n",
              "          [0, 0, 0, ..., 0, 0, 0],\n",
              "          [0, 0, 0, ..., 0, 0, 0],\n",
              "          ...,\n",
              "          [0, 0, 0, ..., 0, 0, 0],\n",
              "          [0, 0, 0, ..., 0, 0, 0],\n",
              "          [0, 0, 0, ..., 0, 0, 0]]], dtype=uint8),\n",
              "  array([7, 2, 1, ..., 4, 5, 6], dtype=uint8)))"
            ]
          },
          "metadata": {},
          "execution_count": 4
        }
      ]
    },
    {
      "cell_type": "code",
      "source": [
        "(X_train,y_train),(X_test,y_test)=mnist.load_data()"
      ],
      "metadata": {
        "id": "It-dCfRYNDWz"
      },
      "execution_count": null,
      "outputs": []
    },
    {
      "cell_type": "code",
      "source": [
        "X_train.shape"
      ],
      "metadata": {
        "colab": {
          "base_uri": "https://localhost:8080/"
        },
        "id": "NkTh2fQiNTBp",
        "outputId": "7b55064e-4cd8-47ce-896f-5fae648d4df4"
      },
      "execution_count": null,
      "outputs": [
        {
          "output_type": "execute_result",
          "data": {
            "text/plain": [
              "(60000, 28, 28)"
            ]
          },
          "metadata": {},
          "execution_count": 6
        }
      ]
    },
    {
      "cell_type": "code",
      "source": [
        "X_test.shape"
      ],
      "metadata": {
        "colab": {
          "base_uri": "https://localhost:8080/"
        },
        "id": "Gwy4Vjb_NUry",
        "outputId": "cfdc5538-b1ed-4f4b-f259-c06f4be46f3a"
      },
      "execution_count": null,
      "outputs": [
        {
          "output_type": "execute_result",
          "data": {
            "text/plain": [
              "(10000, 28, 28)"
            ]
          },
          "metadata": {},
          "execution_count": 7
        }
      ]
    },
    {
      "cell_type": "code",
      "source": [
        "import matplotlib.pyplot as plt\n",
        "\n",
        "plt.imshow(X_train[0])\n",
        "plt.title(y_train[0])\n",
        "plt.show()"
      ],
      "metadata": {
        "colab": {
          "base_uri": "https://localhost:8080/",
          "height": 452
        },
        "id": "TnWq7x5DNXJt",
        "outputId": "95f81e4d-3bd8-4934-b5b1-b814eed67117"
      },
      "execution_count": null,
      "outputs": [
        {
          "output_type": "display_data",
          "data": {
            "text/plain": [
              "<Figure size 640x480 with 1 Axes>"
            ],
            "image/png": "[encoded data removed]"
          },
          "metadata": {}
        }
      ]
    },
    {
      "cell_type": "code",
      "source": [
        "plt.imshow(X_train[5])\n",
        "plt.title(y_train[5])\n",
        "plt.show()"
      ],
      "metadata": {
        "colab": {
          "base_uri": "https://localhost:8080/",
          "height": 452
        },
        "id": "8AwpsnVyNnGK",
        "outputId": "301af9e0-a60d-477b-842c-7e4c76c66551"
      },
      "execution_count": null,
      "outputs": [
        {
          "output_type": "display_data",
          "data": {
            "text/plain": [
              "<Figure size 640x480 with 1 Axes>"
            ],
            "image/png": "[encoded data removed]"
          },
          "metadata": {}
        }
      ]
    },
    {
      "cell_type": "markdown",
      "source": [
        "### Every pixel will have 0 to 255\n",
        "* and here the image is 28 *28 size\n"
      ],
      "metadata": {
        "id": "OF6EdezjOpIV"
      }
    },
    {
      "cell_type": "code",
      "source": [
        "import numpy as np\n",
        "# from IPython.display import display\n",
        "# from pandas import set_option\n",
        "\n",
        "# # Adjust max_line_width as needed\n",
        "# set_option('display.max_colwidth', 100)\n",
        "np.array_str(X_train[0],max_line_width=128)"
      ],
      "metadata": {
        "colab": {
          "base_uri": "https://localhost:8080/",
          "height": 157
        },
        "id": "ui3AXBcqPQyr",
        "outputId": "142379f8-5a39-4f85-d85a-3cd3395605f2"
      },
      "execution_count": null,
      "outputs": [
        {
          "output_type": "execute_result",
          "data": {
            "text/plain": [
              "'[[  0   0   0   0   0   0   0   0   0   0   0   0   0   0   0   0   0   0   0   0   0   0   0   0   0   0   0   0]\\n [  0   0   0   0   0   0   0   0   0   0   0   0   0   0   0   0   0   0   0   0   0   0   0   0   0   0   0   0]\\n [  0   0   0   0   0   0   0   0   0   0   0   0   0   0   0   0   0   0   0   0   0   0   0   0   0   0   0   0]\\n [  0   0   0   0   0   0   0   0   0   0   0   0   0   0   0   0   0   0   0   0   0   0   0   0   0   0   0   0]\\n [  0   0   0   0   0   0   0   0   0   0   0   0   0   0   0   0   0   0   0   0   0   0   0   0   0   0   0   0]\\n [  0   0   0   0   0   0   0   0   0   0   0   0   3  18  18  18 126 136 175  26 166 255 247 127   0   0   0   0]\\n [  0   0   0   0   0   0   0   0  30  36  94 154 170 253 253 253 253 253 225 172 253 242 195  64   0   0   0   0]\\n [  0   0   0   0   0   0   0  49 238 253 253 253 253 253 253 253 253 251  93  82  82  56  39   0   0   0   0   0]\\n [  0   0   0   0   0   0   0  18 219 253 253 253 253 253 198 182 247 241   0   0   0   0   0   0   0   0   0   0]\\n [  0   0   0   0   0   0   0   0  80 156 107 253 253 205  11   0  43 154   0   0   0   0   0   0   0   0   0   0]\\n [  0   0   0   0   0   0   0   0   0  14   1 154 253  90   0   0   0   0   0   0   0   0   0   0   0   0   0   0]\\n [  0   0   0   0   0   0   0   0   0   0   0 139 253 190   2   0   0   0   0   0   0   0   0   0   0   0   0   0]\\n [  0   0   0   0   0   0   0   0   0   0   0  11 190 253  70   0   0   0   0   0   0   0   0   0   0   0   0   0]\\n [  0   0   0   0   0   0   0   0   0   0   0   0  35 241 225 160 108   1   0   0   0   0   0   0   0   0   0   0]\\n [  0   0   0   0   0   0   0   0   0   0   0   0   0  81 240 253 253 119  25   0   0   0   0   0   0   0   0   0]\\n [  0   0   0   0   0   0   0   0   0   0   0   0   0   0  45 186 253 253 150  27   0   0   0   0   0   0   0   0]\\n [  0   0   0   0   0   0   0   0   0   0   0   0   0   0   0  16  93 252 253 187   0   0   0   0   0   0   0   0]\\n [  0   0   0   0   0   0   0   0   0   0   0   0   0   0   0   0   0 249 253 249  64   0   0   0   0   0   0   0]\\n [  0   0   0   0   0   0   0   0   0   0   0   0   0   0  46 130 183 253 253 207   2   0   0   0   0   0   0   0]\\n [  0   0   0   0   0   0   0   0   0   0   0   0  39 148 229 253 253 253 250 182   0   0   0   0   0   0   0   0]\\n [  0   0   0   0   0   0   0   0   0   0  24 114 221 253 253 253 253 201  78   0   0   0   0   0   0   0   0   0]\\n [  0   0   0   0   0   0   0   0  23  66 213 253 253 253 253 198  81   2   0   0   0   0   0   0   0   0   0   0]\\n [  0   0   0   0   0   0  18 171 219 253 253 253 253 195  80   9   0   0   0   0   0   0   0   0   0   0   0   0]\\n [  0   0   0   0  55 172 226 253 253 253 253 244 133  11   0   0   0   0   0   0   0   0   0   0   0   0   0   0]\\n [  0   0   0   0 136 253 253 253 212 135 132  16   0   0   0   0   0   0   0   0   0   0   0   0   0   0   0   0]\\n [  0   0   0   0   0   0   0   0   0   0   0   0   0   0   0   0   0   0   0   0   0   0   0   0   0   0   0   0]\\n [  0   0   0   0   0   0   0   0   0   0   0   0   0   0   0   0   0   0   0   0   0   0   0   0   0   0   0   0]\\n [  0   0   0   0   0   0   0   0   0   0   0   0   0   0   0   0   0   0   0   0   0   0   0   0   0   0   0   0]]'"
            ],
            "application/vnd.google.colaboratory.intrinsic+json": {
              "type": "string"
            }
          },
          "metadata": {},
          "execution_count": 10
        }
      ]
    },
    {
      "cell_type": "code",
      "source": [
        "np.max(X_train)"
      ],
      "metadata": {
        "colab": {
          "base_uri": "https://localhost:8080/"
        },
        "id": "IhwTRGP2PYTh",
        "outputId": "2dde2e01-7e0c-4261-bf19-436bcc8bfbfd"
      },
      "execution_count": null,
      "outputs": [
        {
          "output_type": "execute_result",
          "data": {
            "text/plain": [
              "255"
            ]
          },
          "metadata": {},
          "execution_count": 11
        }
      ]
    },
    {
      "cell_type": "code",
      "source": [
        "np.min(X_train)"
      ],
      "metadata": {
        "colab": {
          "base_uri": "https://localhost:8080/"
        },
        "id": "_Cl7m8SmP_GS",
        "outputId": "7acd643c-1af5-4810-abb3-218348671cf6"
      },
      "execution_count": null,
      "outputs": [
        {
          "output_type": "execute_result",
          "data": {
            "text/plain": [
              "0"
            ]
          },
          "metadata": {},
          "execution_count": 12
        }
      ]
    },
    {
      "cell_type": "code",
      "source": [
        "## to normalize the image data\n",
        "X_train=X_train/255.0\n",
        "X_test=X_test/255.0"
      ],
      "metadata": {
        "id": "BI6H_qamYhkE"
      },
      "execution_count": null,
      "outputs": []
    },
    {
      "cell_type": "code",
      "source": [
        "np.array_str(X_train[0],max_line_width=100)"
      ],
      "metadata": {
        "colab": {
          "base_uri": "https://localhost:8080/",
          "height": 157
        },
        "id": "I46bL_WoYz4R",
        "outputId": "e8e4dee1-a889-4efa-bc39-b19fad0d29ad"
      },
      "execution_count": null,
      "outputs": [
        {
          "output_type": "execute_result",
          "data": {
            "text/plain": [
              "'[[0.         0.         0.         0.         0.         0.         0.         0.\\n  0.         0.         0.         0.         0.         0.         0.         0.\\n  0.         0.         0.         0.         0.         0.         0.         0.\\n  0.         0.         0.         0.        ]\\n [0.         0.         0.         0.         0.         0.         0.         0.\\n  0.         0.         0.         0.         0.         0.         0.         0.\\n  0.         0.         0.         0.         0.         0.         0.         0.\\n  0.         0.         0.         0.        ]\\n [0.         0.         0.         0.         0.         0.         0.         0.\\n  0.         0.         0.         0.         0.         0.         0.         0.\\n  0.         0.         0.         0.         0.         0.         0.         0.\\n  0.         0.         0.         0.        ]\\n [0.         0.         0.         0.         0.         0.         0.         0.\\n  0.         0.         0.         0.         0.         0.         0.         0.\\n  0.         0.         0.         0.         0.         0.         0.         0.\\n  0.         0.         0.         0.        ]\\n [0.         0.         0.         0.         0.         0.         0.         0.\\n  0.         0.         0.         0.         0.         0.         0.         0.\\n  0.         0.         0.         0.         0.         0.         0.         0.\\n  0.         0.         0.         0.        ]\\n [0.         0.         0.         0.         0.         0.         0.         0.\\n  0.         0.         0.         0.         0.01176471 0.07058824 0.07058824 0.07058824\\n  0.49411765 0.53333333 0.68627451 0.10196078 0.65098039 1.         0.96862745 0.49803922\\n  0.         0.         0.         0.        ]\\n [0.         0.         0.         0.         0.         0.         0.         0.\\n  0.11764706 0.14117647 0.36862745 0.60392157 0.66666667 0.99215686 0.99215686 0.99215686\\n  0.99215686 0.99215686 0.88235294 0.6745098  0.99215686 0.94901961 0.76470588 0.25098039\\n  0.         0.         0.         0.        ]\\n [0.         0.         0.         0.         0.         0.         0.         0.19215686\\n  0.93333333 0.99215686 0.99215686 0.99215686 0.99215686 0.99215686 0.99215686 0.99215686\\n  0.99215686 0.98431373 0.36470588 0.32156863 0.32156863 0.21960784 0.15294118 0.\\n  0.         0.         0.         0.        ]\\n [0.         0.         0.         0.         0.         0.         0.         0.07058824\\n  0.85882353 0.99215686 0.99215686 0.99215686 0.99215686 0.99215686 0.77647059 0.71372549\\n  0.96862745 0.94509804 0.         0.         0.         0.         0.         0.\\n  0.         0.         0.         0.        ]\\n [0.         0.         0.         0.         0.         0.         0.         0.\\n  0.31372549 0.61176471 0.41960784 0.99215686 0.99215686 0.80392157 0.04313725 0.\\n  0.16862745 0.60392157 0.         0.         0.         0.         0.         0.\\n  0.         0.         0.         0.        ]\\n [0.         0.         0.         0.         0.         0.         0.         0.\\n  0.         0.05490196 0.00392157 0.60392157 0.99215686 0.35294118 0.         0.\\n  0.         0.         0.         0.         0.         0.         0.         0.\\n  0.         0.         0.         0.        ]\\n [0.         0.         0.         0.         0.         0.         0.         0.\\n  0.         0.         0.         0.54509804 0.99215686 0.74509804 0.00784314 0.\\n  0.         0.         0.         0.         0.         0.         0.         0.\\n  0.         0.         0.         0.        ]\\n [0.         0.         0.         0.         0.         0.         0.         0.\\n  0.         0.         0.         0.04313725 0.74509804 0.99215686 0.2745098  0.\\n  0.         0.         0.         0.         0.         0.         0.         0.\\n  0.         0.         0.         0.        ]\\n [0.         0.         0.         0.         0.         0.         0.         0.\\n  0.         0.         0.         0.         0.1372549  0.94509804 0.88235294 0.62745098\\n  0.42352941 0.00392157 0.         0.         0.         0.         0.         0.\\n  0.         0.         0.         0.        ]\\n [0.         0.         0.         0.         0.         0.         0.         0.\\n  0.         0.         0.         0.         0.         0.31764706 0.94117647 0.99215686\\n  0.99215686 0.46666667 0.09803922 0.         0.         0.         0.         0.\\n  0.         0.         0.         0.        ]\\n [0.         0.         0.         0.         0.         0.         0.         0.\\n  0.         0.         0.         0.         0.         0.         0.17647059 0.72941176\\n  0.99215686 0.99215686 0.58823529 0.10588235 0.         0.         0.         0.\\n  0.         0.         0.         0.        ]\\n [0.         0.         0.         0.         0.         0.         0.         0.\\n  0.         0.         0.         0.         0.         0.         0.         0.0627451\\n  0.36470588 0.98823529 0.99215686 0.73333333 0.         0.         0.         0.\\n  0.         0.         0.         0.        ]\\n [0.         0.         0.         0.         0.         0.         0.         0.\\n  0.         0.         0.         0.         0.         0.         0.         0.\\n  0.         0.97647059 0.99215686 0.97647059 0.25098039 0.         0.         0.\\n  0.         0.         0.         0.        ]\\n [0.         0.         0.         0.         0.         0.         0.         0.\\n  0.         0.         0.         0.         0.         0.         0.18039216 0.50980392\\n  0.71764706 0.99215686 0.99215686 0.81176471 0.00784314 0.         0.         0.\\n  0.         0.         0.         0.        ]\\n [0.         0.         0.         0.         0.         0.         0.         0.\\n  0.         0.         0.         0.         0.15294118 0.58039216 0.89803922 0.99215686\\n  0.99215686 0.99215686 0.98039216 0.71372549 0.         0.         0.         0.\\n  0.         0.         0.         0.        ]\\n [0.         0.         0.         0.         0.         0.         0.         0.\\n  0.         0.         0.09411765 0.44705882 0.86666667 0.99215686 0.99215686 0.99215686\\n  0.99215686 0.78823529 0.30588235 0.         0.         0.         0.         0.\\n  0.         0.         0.         0.        ]\\n [0.         0.         0.         0.         0.         0.         0.         0.\\n  0.09019608 0.25882353 0.83529412 0.99215686 0.99215686 0.99215686 0.99215686 0.77647059\\n  0.31764706 0.00784314 0.         0.         0.         0.         0.         0.\\n  0.         0.         0.         0.        ]\\n [0.         0.         0.         0.         0.         0.         0.07058824 0.67058824\\n  0.85882353 0.99215686 0.99215686 0.99215686 0.99215686 0.76470588 0.31372549 0.03529412\\n  0.         0.         0.         0.         0.         0.         0.         0.\\n  0.         0.         0.         0.        ]\\n [0.         0.         0.         0.         0.21568627 0.6745098  0.88627451 0.99215686\\n  0.99215686 0.99215686 0.99215686 0.95686275 0.52156863 0.04313725 0.         0.\\n  0.         0.         0.         0.         0.         0.         0.         0.\\n  0.         0.         0.         0.        ]\\n [0.         0.         0.         0.         0.53333333 0.99215686 0.99215686 0.99215686\\n  0.83137255 0.52941176 0.51764706 0.0627451  0.         0.         0.         0.\\n  0.         0.         0.         0.         0.         0.         0.         0.\\n  0.         0.         0.         0.        ]\\n [0.         0.         0.         0.         0.         0.         0.         0.\\n  0.         0.         0.         0.         0.         0.         0.         0.\\n  0.         0.         0.         0.         0.         0.         0.         0.\\n  0.         0.         0.         0.        ]\\n [0.         0.         0.         0.         0.         0.         0.         0.\\n  0.         0.         0.         0.         0.         0.         0.         0.\\n  0.         0.         0.         0.         0.         0.         0.         0.\\n  0.         0.         0.         0.        ]\\n [0.         0.         0.         0.         0.         0.         0.         0.\\n  0.         0.         0.         0.         0.         0.         0.         0.\\n  0.         0.         0.         0.         0.         0.         0.         0.\\n  0.         0.         0.         0.        ]]'"
            ],
            "application/vnd.google.colaboratory.intrinsic+json": {
              "type": "string"
            }
          },
          "metadata": {},
          "execution_count": 14
        }
      ]
    },
    {
      "cell_type": "code",
      "source": [
        "## Create the neural network\n",
        "\n",
        "from tensorflow.keras.layers import Flatten,Dense\n",
        "from tensorflow.keras import Sequential"
      ],
      "metadata": {
        "id": "i6tKnqVWY9lO"
      },
      "execution_count": null,
      "outputs": []
    },
    {
      "cell_type": "code",
      "source": [
        "## Flatten is to flatten the image input as 1-Dimensional array\n",
        "## Dense is to create the NN layers\n",
        "## Sequential neural network\n",
        "\n",
        "## Create the model with basic ANN\n",
        "model =Sequential()\n",
        "\n",
        "## input image with the flatten dimension\n",
        "model.add(Flatten(input_shape=(28,28))) ## Flatten the image\n",
        "\n",
        "## Hidden layer with the 128 neurons and 'relu' as the acitvation function\n",
        "model.add(Dense(units=128,activation='relu'))\n",
        "\n",
        "## output layer with ten neurons where it has to identify the digit\n",
        "model.add(Dense(units=10,activation='softmax')) ## gives the ouput in probability"
      ],
      "metadata": {
        "id": "vc4SCiM_aCp7"
      },
      "execution_count": null,
      "outputs": []
    },
    {
      "cell_type": "code",
      "source": [
        "model.summary()"
      ],
      "metadata": {
        "colab": {
          "base_uri": "https://localhost:8080/"
        },
        "id": "eamJaJQfbguq",
        "outputId": "26521871-5e54-409b-a553-194bdac8ca6e"
      },
      "execution_count": null,
      "outputs": [
        {
          "output_type": "stream",
          "name": "stdout",
          "text": [
            "Model: \"sequential\"\n",
            "_________________________________________________________________\n",
            " Layer (type)                Output Shape              Param #   \n",
            "=================================================================\n",
            " flatten (Flatten)           (None, 784)               0         \n",
            "                                                                 \n",
            " dense (Dense)               (None, 128)               100480    \n",
            "                                                                 \n",
            " dense_1 (Dense)             (None, 10)                1290      \n",
            "                                                                 \n",
            "=================================================================\n",
            "Total params: 101770 (397.54 KB)\n",
            "Trainable params: 101770 (397.54 KB)\n",
            "Non-trainable params: 0 (0.00 Byte)\n",
            "_________________________________________________________________\n"
          ]
        }
      ]
    },
    {
      "cell_type": "markdown",
      "source": [
        "#### Params calculation\n",
        "* #params = (#input_neurons)*(#input_neurons) + (#input_neurons)\n",
        "\n",
        "*input layer : 28 * 28 = 784\n",
        "\n",
        "*Hidden layer neurons: (784 * 128)+128 =100480\n",
        "\n",
        "*output neurons: (128 * 10)+10 = 1290\n"
      ],
      "metadata": {
        "id": "NwtLhCCsfgV1"
      }
    },
    {
      "cell_type": "code",
      "source": [
        "## create an optimizer\n",
        "##\n",
        "model.compile(optimizer='sgd',loss='SparseCategoricalCrossentropy',metrics=['accuracy'])"
      ],
      "metadata": {
        "id": "WG3V_UGZcmd6"
      },
      "execution_count": null,
      "outputs": []
    },
    {
      "cell_type": "code",
      "source": [
        "history = model.fit(X_train,y_train,epochs=25,batch_size=32)"
      ],
      "metadata": {
        "colab": {
          "base_uri": "https://localhost:8080/"
        },
        "id": "zUaafp7f09lU",
        "outputId": "721efb6e-c401-4f03-fe71-88e347dbaae2"
      },
      "execution_count": null,
      "outputs": [
        {
          "output_type": "stream",
          "name": "stdout",
          "text": [
            "Epoch 1/25\n",
            "1875/1875 [==============================] - 5s 2ms/step - loss: 0.6509 - accuracy: 0.8343\n",
            "Epoch 2/25\n",
            "1875/1875 [==============================] - 6s 3ms/step - loss: 0.3382 - accuracy: 0.9049\n",
            "Epoch 3/25\n",
            "1875/1875 [==============================] - 5s 2ms/step - loss: 0.2906 - accuracy: 0.9182\n",
            "Epoch 4/25\n",
            "1875/1875 [==============================] - 5s 3ms/step - loss: 0.2611 - accuracy: 0.9266\n",
            "Epoch 5/25\n",
            "1875/1875 [==============================] - 5s 3ms/step - loss: 0.2383 - accuracy: 0.9332\n",
            "Epoch 6/25\n",
            "1875/1875 [==============================] - 5s 2ms/step - loss: 0.2197 - accuracy: 0.9384\n",
            "Epoch 7/25\n",
            "1875/1875 [==============================] - 6s 3ms/step - loss: 0.2041 - accuracy: 0.9431\n",
            "Epoch 8/25\n",
            "1875/1875 [==============================] - 5s 3ms/step - loss: 0.1906 - accuracy: 0.9466\n",
            "Epoch 9/25\n",
            "1875/1875 [==============================] - 6s 3ms/step - loss: 0.1787 - accuracy: 0.9502\n",
            "Epoch 10/25\n",
            "1875/1875 [==============================] - 5s 3ms/step - loss: 0.1683 - accuracy: 0.9534\n",
            "Epoch 11/25\n",
            "1875/1875 [==============================] - 6s 3ms/step - loss: 0.1590 - accuracy: 0.9558\n",
            "Epoch 12/25\n",
            "1875/1875 [==============================] - 5s 3ms/step - loss: 0.1507 - accuracy: 0.9584\n",
            "Epoch 13/25\n",
            "1875/1875 [==============================] - 5s 3ms/step - loss: 0.1428 - accuracy: 0.9601\n",
            "Epoch 14/25\n",
            "1875/1875 [==============================] - 6s 3ms/step - loss: 0.1360 - accuracy: 0.9625\n",
            "Epoch 15/25\n",
            "1875/1875 [==============================] - 5s 2ms/step - loss: 0.1297 - accuracy: 0.9641\n",
            "Epoch 16/25\n",
            "1875/1875 [==============================] - 6s 3ms/step - loss: 0.1239 - accuracy: 0.9657\n",
            "Epoch 17/25\n",
            "1875/1875 [==============================] - 5s 3ms/step - loss: 0.1188 - accuracy: 0.9670\n",
            "Epoch 18/25\n",
            "1875/1875 [==============================] - 6s 3ms/step - loss: 0.1138 - accuracy: 0.9684\n",
            "Epoch 19/25\n",
            "1875/1875 [==============================] - 5s 3ms/step - loss: 0.1094 - accuracy: 0.9697\n",
            "Epoch 20/25\n",
            "1875/1875 [==============================] - 5s 3ms/step - loss: 0.1055 - accuracy: 0.9710\n",
            "Epoch 21/25\n",
            "1875/1875 [==============================] - 6s 3ms/step - loss: 0.1015 - accuracy: 0.9720\n",
            "Epoch 22/25\n",
            "1875/1875 [==============================] - 5s 3ms/step - loss: 0.0978 - accuracy: 0.9733\n",
            "Epoch 23/25\n",
            "1875/1875 [==============================] - 6s 3ms/step - loss: 0.0945 - accuracy: 0.9742\n",
            "Epoch 24/25\n",
            "1875/1875 [==============================] - 5s 3ms/step - loss: 0.0914 - accuracy: 0.9750\n",
            "Epoch 25/25\n",
            "1875/1875 [==============================] - 6s 3ms/step - loss: 0.0884 - accuracy: 0.9756\n"
          ]
        }
      ]
    },
    {
      "cell_type": "code",
      "source": [
        "h=history.history\n",
        "h.keys()"
      ],
      "metadata": {
        "colab": {
          "base_uri": "https://localhost:8080/"
        },
        "id": "DtETSXy21R_3",
        "outputId": "7c40ace2-f6e6-47dd-9dbb-dfef5a7aa511"
      },
      "execution_count": null,
      "outputs": [
        {
          "output_type": "execute_result",
          "data": {
            "text/plain": [
              "dict_keys(['loss', 'accuracy'])"
            ]
          },
          "metadata": {},
          "execution_count": 21
        }
      ]
    },
    {
      "cell_type": "code",
      "source": [
        "plt.plot(h['accuracy'])\n",
        "plt.show()"
      ],
      "metadata": {
        "colab": {
          "base_uri": "https://localhost:8080/",
          "height": 430
        },
        "id": "gWWY_o2PF1jM",
        "outputId": "622a8400-3485-43da-804d-76f1f40ad213"
      },
      "execution_count": null,
      "outputs": [
        {
          "output_type": "display_data",
          "data": {
            "text/plain": [
              "<Figure size 640x480 with 1 Axes>"
            ],
            "image/png": "[encoded data removed]"
          },
          "metadata": {}
        }
      ]
    },
    {
      "cell_type": "code",
      "source": [
        "plt.plot(h['loss'])\n",
        "plt.show()"
      ],
      "metadata": {
        "colab": {
          "base_uri": "https://localhost:8080/",
          "height": 430
        },
        "id": "QDEvEC8KG501",
        "outputId": "56fbc20a-c5cb-42d2-f859-ed2162d7c85f"
      },
      "execution_count": null,
      "outputs": [
        {
          "output_type": "display_data",
          "data": {
            "text/plain": [
              "<Figure size 640x480 with 1 Axes>"
            ],
            "image/png": "[encoded data removed]"
          },
          "metadata": {}
        }
      ]
    },
    {
      "cell_type": "code",
      "source": [
        "model.evaluate(X_test,y_test)"
      ],
      "metadata": {
        "colab": {
          "base_uri": "https://localhost:8080/"
        },
        "id": "SFI2OAY2HI2r",
        "outputId": "141f974e-1b94-4d04-8faf-7032fe9bc4e4"
      },
      "execution_count": null,
      "outputs": [
        {
          "output_type": "stream",
          "name": "stdout",
          "text": [
            "313/313 [==============================] - 1s 4ms/step - loss: 0.1023 - accuracy: 0.9706\n"
          ]
        },
        {
          "output_type": "execute_result",
          "data": {
            "text/plain": [
              "[0.10234533995389938, 0.9706000089645386]"
            ]
          },
          "metadata": {},
          "execution_count": 24
        }
      ]
    },
    {
      "cell_type": "code",
      "source": [
        "## prediction\n",
        "y_pred = model.predict(X_test)\n",
        "y_pred[0]"
      ],
      "metadata": {
        "colab": {
          "base_uri": "https://localhost:8080/"
        },
        "id": "h6ip5Fc1HQtm",
        "outputId": "3f600e02-a8a0-49e0-dccd-df5a1df9c6e8"
      },
      "execution_count": null,
      "outputs": [
        {
          "output_type": "stream",
          "name": "stdout",
          "text": [
            "313/313 [==============================] - 1s 3ms/step\n"
          ]
        },
        {
          "output_type": "execute_result",
          "data": {
            "text/plain": [
              "array([1.5901956e-05, 4.8726449e-08, 3.2851365e-04, 1.5524584e-03,\n",
              "       5.3571810e-08, 3.4508816e-05, 3.3410341e-10, 9.9800116e-01,\n",
              "       2.1351007e-05, 4.6121957e-05], dtype=float32)"
            ]
          },
          "metadata": {},
          "execution_count": 25
        }
      ]
    },
    {
      "cell_type": "code",
      "source": [
        "np.round(y_pred[0])"
      ],
      "metadata": {
        "colab": {
          "base_uri": "https://localhost:8080/"
        },
        "id": "28Awg70tSSEO",
        "outputId": "4667b9e5-31dc-45cb-aa92-db1f85931a12"
      },
      "execution_count": null,
      "outputs": [
        {
          "output_type": "execute_result",
          "data": {
            "text/plain": [
              "array([0., 0., 0., 0., 0., 0., 0., 1., 0., 0.], dtype=float32)"
            ]
          },
          "metadata": {},
          "execution_count": 26
        }
      ]
    },
    {
      "cell_type": "code",
      "source": [
        "y_pred = np.argmax(y_pred,axis=1)\n",
        "y_pred"
      ],
      "metadata": {
        "colab": {
          "base_uri": "https://localhost:8080/"
        },
        "id": "c2a6qkQrSYNf",
        "outputId": "71f3a9b5-e846-402d-e3ab-8e085e5807d6"
      },
      "execution_count": null,
      "outputs": [
        {
          "output_type": "execute_result",
          "data": {
            "text/plain": [
              "array([7, 2, 1, ..., 4, 5, 6])"
            ]
          },
          "metadata": {},
          "execution_count": 27
        }
      ]
    },
    {
      "cell_type": "code",
      "source": [
        "plt.imshow(X_test[0])\n",
        "plt.title(y_test[0])\n",
        "plt.show()"
      ],
      "metadata": {
        "colab": {
          "base_uri": "https://localhost:8080/",
          "height": 452
        },
        "id": "zoLwRd8BTYPD",
        "outputId": "b6e8ccef-4fff-4e62-c2f9-f2f70ad859d4"
      },
      "execution_count": null,
      "outputs": [
        {
          "output_type": "display_data",
          "data": {
            "text/plain": [
              "<Figure size 640x480 with 1 Axes>"
            ],
            "image/png": "[encoded data removed]"
          },
          "metadata": {}
        }
      ]
    },
    {
      "cell_type": "code",
      "source": [
        "from sklearn.metrics import confusion_matrix\n",
        "\n",
        "matrix=confusion_matrix(y_test,y_pred)"
      ],
      "metadata": {
        "id": "E-1a2IEcXgfs"
      },
      "execution_count": null,
      "outputs": []
    },
    {
      "cell_type": "code",
      "source": [
        "import seaborn as sns\n",
        "plt.plot(figsize=(10,6))\n",
        "sns.heatmap(matrix,annot=True,fmt='d')"
      ],
      "metadata": {
        "colab": {
          "base_uri": "https://localhost:8080/",
          "height": 447
        },
        "id": "PR8JRjG2buOr",
        "outputId": "f7d22348-78cc-498a-b2f4-2c330fe18cbe"
      },
      "execution_count": null,
      "outputs": [
        {
          "output_type": "execute_result",
          "data": {
            "text/plain": [
              "<Axes: >"
            ]
          },
          "metadata": {},
          "execution_count": 32
        },
        {
          "output_type": "display_data",
          "data": {
            "text/plain": [
              "<Figure size 640x480 with 2 Axes>"
            ],
            "image/png": "[encoded data removed]"
          },
          "metadata": {}
        }
      ]
    },
    {
      "cell_type": "code",
      "source": [],
      "metadata": {
        "id": "inE3QdfHcLi0"
      },
      "execution_count": null,
      "outputs": []
    }
  ]
}